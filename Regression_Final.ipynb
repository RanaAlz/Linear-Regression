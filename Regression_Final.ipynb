{
 "cells": [
  {
   "cell_type": "markdown",
   "id": "0bbd3651",
   "metadata": {},
   "source": [
    "# Linear RegressionProject"
   ]
  },
  {
   "cell_type": "code",
   "execution_count": 1,
   "id": "876507d0",
   "metadata": {},
   "outputs": [],
   "source": [
    "import random\n",
    "import numpy as np\n",
    "import seaborn as sns\n",
    "import pandas as pd\n",
    "%matplotlib inline\n",
    "import csv\n",
    "import requests\n",
    "import time \n",
    "import os\n",
    "import re\n",
    "from selenium.webdriver.common.keys import Keys\n",
    "import matplotlib.pyplot as plt\n",
    "import seaborn as sns\n",
    "import stat\n",
    "import warnings \n",
    "warnings.filterwarnings(\"ignore\")\n",
    "from sklearn.linear_model import LinearRegression\n",
    "from sklearn.model_selection import train_test_split\n",
    "from sklearn.preprocessing import StandardScaler\n",
    "from sklearn.metrics import r2_score,mean_squared_error\n",
    "import statsmodels.api as sm\n",
    "from sklearn.preprocessing import PolynomialFeatures\n",
    "from sklearn.linear_model import Lasso, LassoCV, Ridge, RidgeCV\n",
    "from sklearn.model_selection import cross_val_score\n",
    "import seaborn as sb\n",
    "from sklearn.model_selection import (cross_val_score, train_test_split, \n",
    "                                     KFold, GridSearchCV)"
   ]
  },
  {
   "cell_type": "code",
   "execution_count": 75,
   "id": "d356b1cb",
   "metadata": {},
   "outputs": [],
   "source": [
    "df = pd.read_csv('face_creams.csv')"
   ]
  },
  {
   "cell_type": "code",
   "execution_count": 76,
   "id": "63e15a86",
   "metadata": {},
   "outputs": [
    {
     "data": {
      "text/html": [
       "<div>\n",
       "<style scoped>\n",
       "    .dataframe tbody tr th:only-of-type {\n",
       "        vertical-align: middle;\n",
       "    }\n",
       "\n",
       "    .dataframe tbody tr th {\n",
       "        vertical-align: top;\n",
       "    }\n",
       "\n",
       "    .dataframe thead th {\n",
       "        text-align: right;\n",
       "    }\n",
       "</style>\n",
       "<table border=\"1\" class=\"dataframe\">\n",
       "  <thead>\n",
       "    <tr style=\"text-align: right;\">\n",
       "      <th></th>\n",
       "      <th>product_title</th>\n",
       "      <th>Price</th>\n",
       "      <th>Review</th>\n",
       "      <th>Rating</th>\n",
       "    </tr>\n",
       "  </thead>\n",
       "  <tbody>\n",
       "    <tr>\n",
       "      <th>0</th>\n",
       "      <td>PrescriptSkin, Retinol Night Cream, 1.55 oz (4...</td>\n",
       "      <td>AU$22.95</td>\n",
       "      <td>965.0</td>\n",
       "      <td>4.5/5 - 965 Reviews</td>\n",
       "    </tr>\n",
       "    <tr>\n",
       "      <th>1</th>\n",
       "      <td>PrescriptSkin, Vitamin C Moisturizer, Enhanced...</td>\n",
       "      <td>AU$14.35</td>\n",
       "      <td>1562.0</td>\n",
       "      <td>4.5/5 - 1562 Reviews</td>\n",
       "    </tr>\n",
       "    <tr>\n",
       "      <th>2</th>\n",
       "      <td>PrescriptSkin, Stem Cell Cream, 2.25 oz (64 g)</td>\n",
       "      <td>AU$22.95</td>\n",
       "      <td>1167.0</td>\n",
       "      <td>4.5/5 - 1167 Reviews</td>\n",
       "    </tr>\n",
       "    <tr>\n",
       "      <th>3</th>\n",
       "      <td>Sympli Beautiful, All Day Hydration Cream, 2 o...</td>\n",
       "      <td>AU$19.13</td>\n",
       "      <td>1356.0</td>\n",
       "      <td>4.4/5 - 1356 Reviews</td>\n",
       "    </tr>\n",
       "    <tr>\n",
       "      <th>4</th>\n",
       "      <td>Eucerin, Q10 Anti-Wrinkle Face Cream, 1.7 oz (...</td>\n",
       "      <td>AU$16.45</td>\n",
       "      <td>20523.0</td>\n",
       "      <td>4.5/5 - 20523 Reviews</td>\n",
       "    </tr>\n",
       "  </tbody>\n",
       "</table>\n",
       "</div>"
      ],
      "text/plain": [
       "                                       product_title     Price   Review  \\\n",
       "0  PrescriptSkin, Retinol Night Cream, 1.55 oz (4...  AU$22.95    965.0   \n",
       "1  PrescriptSkin, Vitamin C Moisturizer, Enhanced...  AU$14.35   1562.0   \n",
       "2     PrescriptSkin, Stem Cell Cream, 2.25 oz (64 g)  AU$22.95   1167.0   \n",
       "3  Sympli Beautiful, All Day Hydration Cream, 2 o...  AU$19.13   1356.0   \n",
       "4  Eucerin, Q10 Anti-Wrinkle Face Cream, 1.7 oz (...  AU$16.45  20523.0   \n",
       "\n",
       "                  Rating  \n",
       "0    4.5/5 - 965 Reviews  \n",
       "1   4.5/5 - 1562 Reviews  \n",
       "2   4.5/5 - 1167 Reviews  \n",
       "3   4.4/5 - 1356 Reviews  \n",
       "4  4.5/5 - 20523 Reviews  "
      ]
     },
     "execution_count": 76,
     "metadata": {},
     "output_type": "execute_result"
    }
   ],
   "source": [
    "df.head()"
   ]
  },
  {
   "cell_type": "markdown",
   "id": "2cdf064c",
   "metadata": {},
   "source": [
    "# Data cleaning "
   ]
  },
  {
   "cell_type": "code",
   "execution_count": 4,
   "id": "94946bd2",
   "metadata": {},
   "outputs": [],
   "source": [
    "df.rename(columns={'product_title':'Name'}, inplace=True)\n"
   ]
  },
  {
   "cell_type": "code",
   "execution_count": 5,
   "id": "db667398",
   "metadata": {},
   "outputs": [
    {
     "name": "stdout",
     "output_type": "stream",
     "text": [
      "<class 'pandas.core.frame.DataFrame'>\n",
      "RangeIndex: 1010 entries, 0 to 1009\n",
      "Data columns (total 4 columns):\n",
      " #   Column  Non-Null Count  Dtype  \n",
      "---  ------  --------------  -----  \n",
      " 0   Name    1010 non-null   object \n",
      " 1   Price   1010 non-null   object \n",
      " 2   Review  948 non-null    float64\n",
      " 3   Rating  948 non-null    object \n",
      "dtypes: float64(1), object(3)\n",
      "memory usage: 31.7+ KB\n"
     ]
    }
   ],
   "source": [
    "df.info()"
   ]
  },
  {
   "cell_type": "code",
   "execution_count": 6,
   "id": "72c0fcf2",
   "metadata": {},
   "outputs": [
    {
     "data": {
      "text/plain": [
       "(1010, 4)"
      ]
     },
     "execution_count": 6,
     "metadata": {},
     "output_type": "execute_result"
    }
   ],
   "source": [
    "df.shape"
   ]
  },
  {
   "cell_type": "code",
   "execution_count": 7,
   "id": "a8ca93c5",
   "metadata": {},
   "outputs": [],
   "source": [
    "df1=df.dropna()"
   ]
  },
  {
   "cell_type": "code",
   "execution_count": 8,
   "id": "ce567374",
   "metadata": {},
   "outputs": [
    {
     "data": {
      "text/plain": [
       "Name       object\n",
       "Price      object\n",
       "Review    float64\n",
       "Rating     object\n",
       "dtype: object"
      ]
     },
     "execution_count": 8,
     "metadata": {},
     "output_type": "execute_result"
    }
   ],
   "source": [
    "df1.dtypes"
   ]
  },
  {
   "cell_type": "code",
   "execution_count": 9,
   "id": "aec8f9ee",
   "metadata": {},
   "outputs": [
    {
     "data": {
      "text/plain": [
       "(896, 4)"
      ]
     },
     "execution_count": 9,
     "metadata": {},
     "output_type": "execute_result"
    }
   ],
   "source": [
    "df1.shape"
   ]
  },
  {
   "cell_type": "code",
   "execution_count": 10,
   "id": "7ee8f61d",
   "metadata": {},
   "outputs": [
    {
     "data": {
      "text/html": [
       "<div>\n",
       "<style scoped>\n",
       "    .dataframe tbody tr th:only-of-type {\n",
       "        vertical-align: middle;\n",
       "    }\n",
       "\n",
       "    .dataframe tbody tr th {\n",
       "        vertical-align: top;\n",
       "    }\n",
       "\n",
       "    .dataframe thead th {\n",
       "        text-align: right;\n",
       "    }\n",
       "</style>\n",
       "<table border=\"1\" class=\"dataframe\">\n",
       "  <thead>\n",
       "    <tr style=\"text-align: right;\">\n",
       "      <th></th>\n",
       "      <th>Name</th>\n",
       "      <th>Price</th>\n",
       "      <th>Review</th>\n",
       "      <th>Rating</th>\n",
       "    </tr>\n",
       "  </thead>\n",
       "  <tbody>\n",
       "    <tr>\n",
       "      <th>0</th>\n",
       "      <td>PrescriptSkin, Retinol Night Cream, 1.55 oz (4...</td>\n",
       "      <td>AU$22.95</td>\n",
       "      <td>965.0</td>\n",
       "      <td>4.5/5 - 965 Reviews</td>\n",
       "    </tr>\n",
       "    <tr>\n",
       "      <th>1</th>\n",
       "      <td>PrescriptSkin, Vitamin C Moisturizer, Enhanced...</td>\n",
       "      <td>AU$14.35</td>\n",
       "      <td>1562.0</td>\n",
       "      <td>4.5/5 - 1562 Reviews</td>\n",
       "    </tr>\n",
       "    <tr>\n",
       "      <th>2</th>\n",
       "      <td>PrescriptSkin, Stem Cell Cream, 2.25 oz (64 g)</td>\n",
       "      <td>AU$22.95</td>\n",
       "      <td>1167.0</td>\n",
       "      <td>4.5/5 - 1167 Reviews</td>\n",
       "    </tr>\n",
       "    <tr>\n",
       "      <th>3</th>\n",
       "      <td>Sympli Beautiful, All Day Hydration Cream, 2 o...</td>\n",
       "      <td>AU$19.13</td>\n",
       "      <td>1356.0</td>\n",
       "      <td>4.4/5 - 1356 Reviews</td>\n",
       "    </tr>\n",
       "    <tr>\n",
       "      <th>4</th>\n",
       "      <td>Eucerin, Q10 Anti-Wrinkle Face Cream, 1.7 oz (...</td>\n",
       "      <td>AU$16.45</td>\n",
       "      <td>20523.0</td>\n",
       "      <td>4.5/5 - 20523 Reviews</td>\n",
       "    </tr>\n",
       "  </tbody>\n",
       "</table>\n",
       "</div>"
      ],
      "text/plain": [
       "                                                Name     Price   Review  \\\n",
       "0  PrescriptSkin, Retinol Night Cream, 1.55 oz (4...  AU$22.95    965.0   \n",
       "1  PrescriptSkin, Vitamin C Moisturizer, Enhanced...  AU$14.35   1562.0   \n",
       "2     PrescriptSkin, Stem Cell Cream, 2.25 oz (64 g)  AU$22.95   1167.0   \n",
       "3  Sympli Beautiful, All Day Hydration Cream, 2 o...  AU$19.13   1356.0   \n",
       "4  Eucerin, Q10 Anti-Wrinkle Face Cream, 1.7 oz (...  AU$16.45  20523.0   \n",
       "\n",
       "                  Rating  \n",
       "0    4.5/5 - 965 Reviews  \n",
       "1   4.5/5 - 1562 Reviews  \n",
       "2   4.5/5 - 1167 Reviews  \n",
       "3   4.4/5 - 1356 Reviews  \n",
       "4  4.5/5 - 20523 Reviews  "
      ]
     },
     "execution_count": 10,
     "metadata": {},
     "output_type": "execute_result"
    }
   ],
   "source": [
    "df1.head()"
   ]
  },
  {
   "cell_type": "code",
   "execution_count": 14,
   "id": "c0191b9a",
   "metadata": {},
   "outputs": [
    {
     "data": {
      "text/html": [
       "<div>\n",
       "<style scoped>\n",
       "    .dataframe tbody tr th:only-of-type {\n",
       "        vertical-align: middle;\n",
       "    }\n",
       "\n",
       "    .dataframe tbody tr th {\n",
       "        vertical-align: top;\n",
       "    }\n",
       "\n",
       "    .dataframe thead th {\n",
       "        text-align: right;\n",
       "    }\n",
       "</style>\n",
       "<table border=\"1\" class=\"dataframe\">\n",
       "  <thead>\n",
       "    <tr style=\"text-align: right;\">\n",
       "      <th></th>\n",
       "      <th>Name</th>\n",
       "      <th>Price</th>\n",
       "      <th>Review</th>\n",
       "      <th>Rating</th>\n",
       "    </tr>\n",
       "  </thead>\n",
       "  <tbody>\n",
       "    <tr>\n",
       "      <th>0</th>\n",
       "      <td>PrescriptSkin, Retinol Night Cream, 1.55 oz (4...</td>\n",
       "      <td>22.95</td>\n",
       "      <td>965.0</td>\n",
       "      <td>4.5/5 - 965 Reviews</td>\n",
       "    </tr>\n",
       "    <tr>\n",
       "      <th>1</th>\n",
       "      <td>PrescriptSkin, Vitamin C Moisturizer, Enhanced...</td>\n",
       "      <td>14.35</td>\n",
       "      <td>1562.0</td>\n",
       "      <td>4.5/5 - 1562 Reviews</td>\n",
       "    </tr>\n",
       "    <tr>\n",
       "      <th>2</th>\n",
       "      <td>PrescriptSkin, Stem Cell Cream, 2.25 oz (64 g)</td>\n",
       "      <td>22.95</td>\n",
       "      <td>1167.0</td>\n",
       "      <td>4.5/5 - 1167 Reviews</td>\n",
       "    </tr>\n",
       "    <tr>\n",
       "      <th>3</th>\n",
       "      <td>Sympli Beautiful, All Day Hydration Cream, 2 o...</td>\n",
       "      <td>19.13</td>\n",
       "      <td>1356.0</td>\n",
       "      <td>4.4/5 - 1356 Reviews</td>\n",
       "    </tr>\n",
       "    <tr>\n",
       "      <th>4</th>\n",
       "      <td>Eucerin, Q10 Anti-Wrinkle Face Cream, 1.7 oz (...</td>\n",
       "      <td>16.45</td>\n",
       "      <td>20523.0</td>\n",
       "      <td>4.5/5 - 20523 Reviews</td>\n",
       "    </tr>\n",
       "    <tr>\n",
       "      <th>...</th>\n",
       "      <td>...</td>\n",
       "      <td>...</td>\n",
       "      <td>...</td>\n",
       "      <td>...</td>\n",
       "    </tr>\n",
       "    <tr>\n",
       "      <th>938</th>\n",
       "      <td>TruSkin, Peptide Eye Gel, 0.5 fl oz (15 ml)</td>\n",
       "      <td>25.49</td>\n",
       "      <td>4.0</td>\n",
       "      <td>4.2/5 - 1241 Reviews</td>\n",
       "    </tr>\n",
       "    <tr>\n",
       "      <th>943</th>\n",
       "      <td>Advanced Clinicals, Puffy Eye Serum, Professio...</td>\n",
       "      <td>20.64</td>\n",
       "      <td>17.0</td>\n",
       "      <td>4.3/5 - 311 Reviews</td>\n",
       "    </tr>\n",
       "    <tr>\n",
       "      <th>944</th>\n",
       "      <td>Cos De BAHA, Centella Gel Cream, 1.5 fl oz (45...</td>\n",
       "      <td>15.92</td>\n",
       "      <td>11.0</td>\n",
       "      <td>4.1/5 - 569 Reviews</td>\n",
       "    </tr>\n",
       "    <tr>\n",
       "      <th>945</th>\n",
       "      <td>Cos De BAHA, NZ, Niacinamide 20 Zinc PCA 4, 1 ...</td>\n",
       "      <td>20.70</td>\n",
       "      <td>6.0</td>\n",
       "      <td>4.5/5 - 248 Reviews</td>\n",
       "    </tr>\n",
       "    <tr>\n",
       "      <th>946</th>\n",
       "      <td>Cos De BAHA, Salicylic Acid BHA 2% Liquid, 4 f...</td>\n",
       "      <td>20.70</td>\n",
       "      <td>9.0</td>\n",
       "      <td>4.6/5 - 158 Reviews</td>\n",
       "    </tr>\n",
       "  </tbody>\n",
       "</table>\n",
       "<p>896 rows × 4 columns</p>\n",
       "</div>"
      ],
      "text/plain": [
       "                                                  Name  Price   Review  \\\n",
       "0    PrescriptSkin, Retinol Night Cream, 1.55 oz (4...  22.95    965.0   \n",
       "1    PrescriptSkin, Vitamin C Moisturizer, Enhanced...  14.35   1562.0   \n",
       "2       PrescriptSkin, Stem Cell Cream, 2.25 oz (64 g)  22.95   1167.0   \n",
       "3    Sympli Beautiful, All Day Hydration Cream, 2 o...  19.13   1356.0   \n",
       "4    Eucerin, Q10 Anti-Wrinkle Face Cream, 1.7 oz (...  16.45  20523.0   \n",
       "..                                                 ...    ...      ...   \n",
       "938        TruSkin, Peptide Eye Gel, 0.5 fl oz (15 ml)  25.49      4.0   \n",
       "943  Advanced Clinicals, Puffy Eye Serum, Professio...  20.64     17.0   \n",
       "944  Cos De BAHA, Centella Gel Cream, 1.5 fl oz (45...  15.92     11.0   \n",
       "945  Cos De BAHA, NZ, Niacinamide 20 Zinc PCA 4, 1 ...  20.70      6.0   \n",
       "946  Cos De BAHA, Salicylic Acid BHA 2% Liquid, 4 f...  20.70      9.0   \n",
       "\n",
       "                    Rating  \n",
       "0      4.5/5 - 965 Reviews  \n",
       "1     4.5/5 - 1562 Reviews  \n",
       "2     4.5/5 - 1167 Reviews  \n",
       "3     4.4/5 - 1356 Reviews  \n",
       "4    4.5/5 - 20523 Reviews  \n",
       "..                     ...  \n",
       "938   4.2/5 - 1241 Reviews  \n",
       "943    4.3/5 - 311 Reviews  \n",
       "944    4.1/5 - 569 Reviews  \n",
       "945    4.5/5 - 248 Reviews  \n",
       "946    4.6/5 - 158 Reviews  \n",
       "\n",
       "[896 rows x 4 columns]"
      ]
     },
     "execution_count": 14,
     "metadata": {},
     "output_type": "execute_result"
    }
   ],
   "source": [
    "df1.Price = df1.Price.str.replace('U', '')\n",
    "df1"
   ]
  },
  {
   "cell_type": "code",
   "execution_count": 15,
   "id": "4093c818",
   "metadata": {},
   "outputs": [],
   "source": [
    "df1.Price = df1.Price.astype('float') "
   ]
  },
  {
   "cell_type": "code",
   "execution_count": 16,
   "id": "5820767e",
   "metadata": {
    "scrolled": true
   },
   "outputs": [
    {
     "data": {
      "text/html": [
       "<div>\n",
       "<style scoped>\n",
       "    .dataframe tbody tr th:only-of-type {\n",
       "        vertical-align: middle;\n",
       "    }\n",
       "\n",
       "    .dataframe tbody tr th {\n",
       "        vertical-align: top;\n",
       "    }\n",
       "\n",
       "    .dataframe thead th {\n",
       "        text-align: right;\n",
       "    }\n",
       "</style>\n",
       "<table border=\"1\" class=\"dataframe\">\n",
       "  <thead>\n",
       "    <tr style=\"text-align: right;\">\n",
       "      <th></th>\n",
       "      <th>Name</th>\n",
       "      <th>Price</th>\n",
       "      <th>Review</th>\n",
       "      <th>Rating</th>\n",
       "    </tr>\n",
       "  </thead>\n",
       "  <tbody>\n",
       "    <tr>\n",
       "      <th>0</th>\n",
       "      <td>PrescriptSkin, Retinol Night Cream, 1.55 oz (4...</td>\n",
       "      <td>22.95</td>\n",
       "      <td>965.0</td>\n",
       "      <td>4.5/5 - 965 Reviews</td>\n",
       "    </tr>\n",
       "    <tr>\n",
       "      <th>1</th>\n",
       "      <td>PrescriptSkin, Vitamin C Moisturizer, Enhanced...</td>\n",
       "      <td>14.35</td>\n",
       "      <td>1562.0</td>\n",
       "      <td>4.5/5 - 1562 Reviews</td>\n",
       "    </tr>\n",
       "    <tr>\n",
       "      <th>2</th>\n",
       "      <td>PrescriptSkin, Stem Cell Cream, 2.25 oz (64 g)</td>\n",
       "      <td>22.95</td>\n",
       "      <td>1167.0</td>\n",
       "      <td>4.5/5 - 1167 Reviews</td>\n",
       "    </tr>\n",
       "    <tr>\n",
       "      <th>3</th>\n",
       "      <td>Sympli Beautiful, All Day Hydration Cream, 2 o...</td>\n",
       "      <td>19.13</td>\n",
       "      <td>1356.0</td>\n",
       "      <td>4.4/5 - 1356 Reviews</td>\n",
       "    </tr>\n",
       "    <tr>\n",
       "      <th>4</th>\n",
       "      <td>Eucerin, Q10 Anti-Wrinkle Face Cream, 1.7 oz (...</td>\n",
       "      <td>16.45</td>\n",
       "      <td>20523.0</td>\n",
       "      <td>4.5/5 - 20523 Reviews</td>\n",
       "    </tr>\n",
       "  </tbody>\n",
       "</table>\n",
       "</div>"
      ],
      "text/plain": [
       "                                                Name  Price   Review  \\\n",
       "0  PrescriptSkin, Retinol Night Cream, 1.55 oz (4...  22.95    965.0   \n",
       "1  PrescriptSkin, Vitamin C Moisturizer, Enhanced...  14.35   1562.0   \n",
       "2     PrescriptSkin, Stem Cell Cream, 2.25 oz (64 g)  22.95   1167.0   \n",
       "3  Sympli Beautiful, All Day Hydration Cream, 2 o...  19.13   1356.0   \n",
       "4  Eucerin, Q10 Anti-Wrinkle Face Cream, 1.7 oz (...  16.45  20523.0   \n",
       "\n",
       "                  Rating  \n",
       "0    4.5/5 - 965 Reviews  \n",
       "1   4.5/5 - 1562 Reviews  \n",
       "2   4.5/5 - 1167 Reviews  \n",
       "3   4.4/5 - 1356 Reviews  \n",
       "4  4.5/5 - 20523 Reviews  "
      ]
     },
     "execution_count": 16,
     "metadata": {},
     "output_type": "execute_result"
    }
   ],
   "source": [
    "df1.head()"
   ]
  },
  {
   "cell_type": "code",
   "execution_count": 17,
   "id": "9fe2c388",
   "metadata": {},
   "outputs": [],
   "source": [
    "df1.Rating=df1.loc[:946].Rating.map(\n",
    "  lambda x: str.split(x, \"/\")[0]\n",
    ")"
   ]
  },
  {
   "cell_type": "code",
   "execution_count": 18,
   "id": "6d3815b0",
   "metadata": {},
   "outputs": [
    {
     "data": {
      "text/html": [
       "<div>\n",
       "<style scoped>\n",
       "    .dataframe tbody tr th:only-of-type {\n",
       "        vertical-align: middle;\n",
       "    }\n",
       "\n",
       "    .dataframe tbody tr th {\n",
       "        vertical-align: top;\n",
       "    }\n",
       "\n",
       "    .dataframe thead th {\n",
       "        text-align: right;\n",
       "    }\n",
       "</style>\n",
       "<table border=\"1\" class=\"dataframe\">\n",
       "  <thead>\n",
       "    <tr style=\"text-align: right;\">\n",
       "      <th></th>\n",
       "      <th>Name</th>\n",
       "      <th>Price</th>\n",
       "      <th>Review</th>\n",
       "      <th>Rating</th>\n",
       "    </tr>\n",
       "  </thead>\n",
       "  <tbody>\n",
       "    <tr>\n",
       "      <th>0</th>\n",
       "      <td>PrescriptSkin, Retinol Night Cream, 1.55 oz (4...</td>\n",
       "      <td>22.95</td>\n",
       "      <td>965.0</td>\n",
       "      <td>4.5</td>\n",
       "    </tr>\n",
       "    <tr>\n",
       "      <th>1</th>\n",
       "      <td>PrescriptSkin, Vitamin C Moisturizer, Enhanced...</td>\n",
       "      <td>14.35</td>\n",
       "      <td>1562.0</td>\n",
       "      <td>4.5</td>\n",
       "    </tr>\n",
       "    <tr>\n",
       "      <th>2</th>\n",
       "      <td>PrescriptSkin, Stem Cell Cream, 2.25 oz (64 g)</td>\n",
       "      <td>22.95</td>\n",
       "      <td>1167.0</td>\n",
       "      <td>4.5</td>\n",
       "    </tr>\n",
       "    <tr>\n",
       "      <th>3</th>\n",
       "      <td>Sympli Beautiful, All Day Hydration Cream, 2 o...</td>\n",
       "      <td>19.13</td>\n",
       "      <td>1356.0</td>\n",
       "      <td>4.4</td>\n",
       "    </tr>\n",
       "    <tr>\n",
       "      <th>4</th>\n",
       "      <td>Eucerin, Q10 Anti-Wrinkle Face Cream, 1.7 oz (...</td>\n",
       "      <td>16.45</td>\n",
       "      <td>20523.0</td>\n",
       "      <td>4.5</td>\n",
       "    </tr>\n",
       "  </tbody>\n",
       "</table>\n",
       "</div>"
      ],
      "text/plain": [
       "                                                Name  Price   Review Rating\n",
       "0  PrescriptSkin, Retinol Night Cream, 1.55 oz (4...  22.95    965.0    4.5\n",
       "1  PrescriptSkin, Vitamin C Moisturizer, Enhanced...  14.35   1562.0    4.5\n",
       "2     PrescriptSkin, Stem Cell Cream, 2.25 oz (64 g)  22.95   1167.0    4.5\n",
       "3  Sympli Beautiful, All Day Hydration Cream, 2 o...  19.13   1356.0    4.4\n",
       "4  Eucerin, Q10 Anti-Wrinkle Face Cream, 1.7 oz (...  16.45  20523.0    4.5"
      ]
     },
     "execution_count": 18,
     "metadata": {},
     "output_type": "execute_result"
    }
   ],
   "source": [
    "df1.head()"
   ]
  },
  {
   "cell_type": "code",
   "execution_count": 19,
   "id": "8ffc2d62",
   "metadata": {},
   "outputs": [
    {
     "name": "stdout",
     "output_type": "stream",
     "text": [
      "<class 'pandas.core.frame.DataFrame'>\n",
      "RangeIndex: 1010 entries, 0 to 1009\n",
      "Data columns (total 4 columns):\n",
      " #   Column  Non-Null Count  Dtype  \n",
      "---  ------  --------------  -----  \n",
      " 0   Name    1010 non-null   object \n",
      " 1   Price   1010 non-null   object \n",
      " 2   Review  948 non-null    float64\n",
      " 3   Rating  948 non-null    object \n",
      "dtypes: float64(1), object(3)\n",
      "memory usage: 31.7+ KB\n"
     ]
    }
   ],
   "source": [
    "df.info()"
   ]
  },
  {
   "cell_type": "code",
   "execution_count": 20,
   "id": "36357198",
   "metadata": {},
   "outputs": [],
   "source": [
    "df1.Rating = df1.Rating.astype('float') "
   ]
  },
  {
   "cell_type": "code",
   "execution_count": 21,
   "id": "0d7fe037",
   "metadata": {},
   "outputs": [
    {
     "name": "stdout",
     "output_type": "stream",
     "text": [
      "<class 'pandas.core.frame.DataFrame'>\n",
      "Int64Index: 896 entries, 0 to 946\n",
      "Data columns (total 4 columns):\n",
      " #   Column  Non-Null Count  Dtype  \n",
      "---  ------  --------------  -----  \n",
      " 0   Name    896 non-null    object \n",
      " 1   Price   896 non-null    float64\n",
      " 2   Review  896 non-null    float64\n",
      " 3   Rating  896 non-null    float64\n",
      "dtypes: float64(3), object(1)\n",
      "memory usage: 67.3+ KB\n"
     ]
    }
   ],
   "source": [
    "df1.info()"
   ]
  },
  {
   "cell_type": "code",
   "execution_count": 22,
   "id": "856d4777",
   "metadata": {},
   "outputs": [
    {
     "data": {
      "text/plain": [
       "Name       object\n",
       "Price     float64\n",
       "Review    float64\n",
       "Rating    float64\n",
       "dtype: object"
      ]
     },
     "execution_count": 22,
     "metadata": {},
     "output_type": "execute_result"
    }
   ],
   "source": [
    "df1.dtypes"
   ]
  },
  {
   "cell_type": "markdown",
   "id": "c32f6740",
   "metadata": {},
   "source": [
    "# EDA"
   ]
  },
  {
   "cell_type": "code",
   "execution_count": 23,
   "id": "429198c6",
   "metadata": {},
   "outputs": [
    {
     "data": {
      "text/plain": [
       "<seaborn.axisgrid.PairGrid at 0x106198d60>"
      ]
     },
     "execution_count": 23,
     "metadata": {},
     "output_type": "execute_result"
    },
    {
     "data": {
      "image/png": "[encoded data removed]",
      "text/plain": [
       "<Figure size 540x540 with 12 Axes>"
      ]
     },
     "metadata": {
      "needs_background": "light"
     },
     "output_type": "display_data"
    }
   ],
   "source": [
    "sns.pairplot(df1)"
   ]
  },
  {
   "cell_type": "code",
   "execution_count": 24,
   "id": "f06c1ba0",
   "metadata": {},
   "outputs": [
    {
     "data": {
      "text/html": [
       "<div>\n",
       "<style scoped>\n",
       "    .dataframe tbody tr th:only-of-type {\n",
       "        vertical-align: middle;\n",
       "    }\n",
       "\n",
       "    .dataframe tbody tr th {\n",
       "        vertical-align: top;\n",
       "    }\n",
       "\n",
       "    .dataframe thead th {\n",
       "        text-align: right;\n",
       "    }\n",
       "</style>\n",
       "<table border=\"1\" class=\"dataframe\">\n",
       "  <thead>\n",
       "    <tr style=\"text-align: right;\">\n",
       "      <th></th>\n",
       "      <th>Price</th>\n",
       "      <th>Review</th>\n",
       "      <th>Rating</th>\n",
       "    </tr>\n",
       "  </thead>\n",
       "  <tbody>\n",
       "    <tr>\n",
       "      <th>Price</th>\n",
       "      <td>1.000000</td>\n",
       "      <td>-0.169076</td>\n",
       "      <td>0.059355</td>\n",
       "    </tr>\n",
       "    <tr>\n",
       "      <th>Review</th>\n",
       "      <td>-0.169076</td>\n",
       "      <td>1.000000</td>\n",
       "      <td>-0.020193</td>\n",
       "    </tr>\n",
       "    <tr>\n",
       "      <th>Rating</th>\n",
       "      <td>0.059355</td>\n",
       "      <td>-0.020193</td>\n",
       "      <td>1.000000</td>\n",
       "    </tr>\n",
       "  </tbody>\n",
       "</table>\n",
       "</div>"
      ],
      "text/plain": [
       "           Price    Review    Rating\n",
       "Price   1.000000 -0.169076  0.059355\n",
       "Review -0.169076  1.000000 -0.020193\n",
       "Rating  0.059355 -0.020193  1.000000"
      ]
     },
     "execution_count": 24,
     "metadata": {},
     "output_type": "execute_result"
    }
   ],
   "source": [
    "corr = df1.corr()\n",
    "corr"
   ]
  },
  {
   "cell_type": "code",
   "execution_count": 25,
   "id": "550a738f",
   "metadata": {},
   "outputs": [
    {
     "data": {
      "image/png": "[encoded data removed]",
      "text/plain": [
       "<Figure size 576x360 with 1 Axes>"
      ]
     },
     "metadata": {
      "needs_background": "light"
     },
     "output_type": "display_data"
    }
   ],
   "source": [
    "plt.figure(figsize = (8,5))\n",
    "sns.heatmap(corr,cbar=False, annot=True,cmap=\"YlGnBu\")\n",
    "plt.show()"
   ]
  },
  {
   "cell_type": "code",
   "execution_count": 26,
   "id": "5b4845bd",
   "metadata": {},
   "outputs": [
    {
     "data": {
      "text/html": [
       "<div>\n",
       "<style scoped>\n",
       "    .dataframe tbody tr th:only-of-type {\n",
       "        vertical-align: middle;\n",
       "    }\n",
       "\n",
       "    .dataframe tbody tr th {\n",
       "        vertical-align: top;\n",
       "    }\n",
       "\n",
       "    .dataframe thead th {\n",
       "        text-align: right;\n",
       "    }\n",
       "</style>\n",
       "<table border=\"1\" class=\"dataframe\">\n",
       "  <thead>\n",
       "    <tr style=\"text-align: right;\">\n",
       "      <th></th>\n",
       "      <th>Price</th>\n",
       "      <th>Review</th>\n",
       "      <th>Rating</th>\n",
       "    </tr>\n",
       "  </thead>\n",
       "  <tbody>\n",
       "    <tr>\n",
       "      <th>count</th>\n",
       "      <td>896.000000</td>\n",
       "      <td>896.000000</td>\n",
       "      <td>896.000000</td>\n",
       "    </tr>\n",
       "    <tr>\n",
       "      <th>mean</th>\n",
       "      <td>28.015145</td>\n",
       "      <td>843.503348</td>\n",
       "      <td>4.534487</td>\n",
       "    </tr>\n",
       "    <tr>\n",
       "      <th>std</th>\n",
       "      <td>13.735966</td>\n",
       "      <td>3285.502391</td>\n",
       "      <td>0.259618</td>\n",
       "    </tr>\n",
       "    <tr>\n",
       "      <th>min</th>\n",
       "      <td>3.190000</td>\n",
       "      <td>1.000000</td>\n",
       "      <td>2.300000</td>\n",
       "    </tr>\n",
       "    <tr>\n",
       "      <th>25%</th>\n",
       "      <td>18.305000</td>\n",
       "      <td>39.000000</td>\n",
       "      <td>4.400000</td>\n",
       "    </tr>\n",
       "    <tr>\n",
       "      <th>50%</th>\n",
       "      <td>24.870000</td>\n",
       "      <td>129.000000</td>\n",
       "      <td>4.600000</td>\n",
       "    </tr>\n",
       "    <tr>\n",
       "      <th>75%</th>\n",
       "      <td>35.265000</td>\n",
       "      <td>484.250000</td>\n",
       "      <td>4.700000</td>\n",
       "    </tr>\n",
       "    <tr>\n",
       "      <th>max</th>\n",
       "      <td>103.600000</td>\n",
       "      <td>48426.000000</td>\n",
       "      <td>5.000000</td>\n",
       "    </tr>\n",
       "  </tbody>\n",
       "</table>\n",
       "</div>"
      ],
      "text/plain": [
       "            Price        Review      Rating\n",
       "count  896.000000    896.000000  896.000000\n",
       "mean    28.015145    843.503348    4.534487\n",
       "std     13.735966   3285.502391    0.259618\n",
       "min      3.190000      1.000000    2.300000\n",
       "25%     18.305000     39.000000    4.400000\n",
       "50%     24.870000    129.000000    4.600000\n",
       "75%     35.265000    484.250000    4.700000\n",
       "max    103.600000  48426.000000    5.000000"
      ]
     },
     "execution_count": 26,
     "metadata": {},
     "output_type": "execute_result"
    }
   ],
   "source": [
    "df1.describe()"
   ]
  },
  {
   "cell_type": "markdown",
   "id": "8a131bd3",
   "metadata": {},
   "source": [
    "# Feature Engineer"
   ]
  },
  {
   "cell_type": "code",
   "execution_count": 47,
   "id": "c8b32ceb",
   "metadata": {},
   "outputs": [],
   "source": [
    "df1['brand']=df1.loc[:946].Name.map(\n",
    "  lambda x: str.split(x, \",\")[0]\n",
    ")"
   ]
  },
  {
   "cell_type": "code",
   "execution_count": 48,
   "id": "ea34d749",
   "metadata": {},
   "outputs": [
    {
     "data": {
      "text/html": [
       "<div>\n",
       "<style scoped>\n",
       "    .dataframe tbody tr th:only-of-type {\n",
       "        vertical-align: middle;\n",
       "    }\n",
       "\n",
       "    .dataframe tbody tr th {\n",
       "        vertical-align: top;\n",
       "    }\n",
       "\n",
       "    .dataframe thead th {\n",
       "        text-align: right;\n",
       "    }\n",
       "</style>\n",
       "<table border=\"1\" class=\"dataframe\">\n",
       "  <thead>\n",
       "    <tr style=\"text-align: right;\">\n",
       "      <th></th>\n",
       "      <th>Name</th>\n",
       "      <th>Price</th>\n",
       "      <th>Review</th>\n",
       "      <th>Rating</th>\n",
       "      <th>brand</th>\n",
       "    </tr>\n",
       "  </thead>\n",
       "  <tbody>\n",
       "    <tr>\n",
       "      <th>0</th>\n",
       "      <td>PrescriptSkin, Retinol Night Cream, 1.55 oz (4...</td>\n",
       "      <td>22.95</td>\n",
       "      <td>965.0</td>\n",
       "      <td>4.5</td>\n",
       "      <td>PrescriptSkin</td>\n",
       "    </tr>\n",
       "    <tr>\n",
       "      <th>1</th>\n",
       "      <td>PrescriptSkin, Vitamin C Moisturizer, Enhanced...</td>\n",
       "      <td>14.35</td>\n",
       "      <td>1562.0</td>\n",
       "      <td>4.5</td>\n",
       "      <td>PrescriptSkin</td>\n",
       "    </tr>\n",
       "    <tr>\n",
       "      <th>2</th>\n",
       "      <td>PrescriptSkin, Stem Cell Cream, 2.25 oz (64 g)</td>\n",
       "      <td>22.95</td>\n",
       "      <td>1167.0</td>\n",
       "      <td>4.5</td>\n",
       "      <td>PrescriptSkin</td>\n",
       "    </tr>\n",
       "    <tr>\n",
       "      <th>3</th>\n",
       "      <td>Sympli Beautiful, All Day Hydration Cream, 2 o...</td>\n",
       "      <td>19.13</td>\n",
       "      <td>1356.0</td>\n",
       "      <td>4.4</td>\n",
       "      <td>Sympli Beautiful</td>\n",
       "    </tr>\n",
       "    <tr>\n",
       "      <th>4</th>\n",
       "      <td>Eucerin, Q10 Anti-Wrinkle Face Cream, 1.7 oz (...</td>\n",
       "      <td>16.45</td>\n",
       "      <td>20523.0</td>\n",
       "      <td>4.5</td>\n",
       "      <td>Eucerin</td>\n",
       "    </tr>\n",
       "    <tr>\n",
       "      <th>...</th>\n",
       "      <td>...</td>\n",
       "      <td>...</td>\n",
       "      <td>...</td>\n",
       "      <td>...</td>\n",
       "      <td>...</td>\n",
       "    </tr>\n",
       "    <tr>\n",
       "      <th>95</th>\n",
       "      <td>Source Naturals, Skin Eternal Cream, 2 oz (56....</td>\n",
       "      <td>22.69</td>\n",
       "      <td>4024.0</td>\n",
       "      <td>4.4</td>\n",
       "      <td>Source Naturals</td>\n",
       "    </tr>\n",
       "    <tr>\n",
       "      <th>96</th>\n",
       "      <td>Dear, Klairs, Midnight Blue Calming Cream, 2 o...</td>\n",
       "      <td>47.82</td>\n",
       "      <td>1338.0</td>\n",
       "      <td>4.7</td>\n",
       "      <td>Dear</td>\n",
       "    </tr>\n",
       "    <tr>\n",
       "      <th>97</th>\n",
       "      <td>Leven Rose, 100% Pure &amp; Organic, Carrot Seed O...</td>\n",
       "      <td>22.27</td>\n",
       "      <td>611.0</td>\n",
       "      <td>4.4</td>\n",
       "      <td>Leven Rose</td>\n",
       "    </tr>\n",
       "    <tr>\n",
       "      <th>98</th>\n",
       "      <td>Andalou Naturals, Perfecting Cream, Goji Pepti...</td>\n",
       "      <td>43.02</td>\n",
       "      <td>1509.0</td>\n",
       "      <td>4.6</td>\n",
       "      <td>Andalou Naturals</td>\n",
       "    </tr>\n",
       "    <tr>\n",
       "      <th>99</th>\n",
       "      <td>Mizon, Snail Wrinkle Care Sleeping Pack, 2.70 ...</td>\n",
       "      <td>20.70</td>\n",
       "      <td>211.0</td>\n",
       "      <td>4.7</td>\n",
       "      <td>Mizon</td>\n",
       "    </tr>\n",
       "  </tbody>\n",
       "</table>\n",
       "<p>100 rows × 5 columns</p>\n",
       "</div>"
      ],
      "text/plain": [
       "                                                 Name  Price   Review  Rating  \\\n",
       "0   PrescriptSkin, Retinol Night Cream, 1.55 oz (4...  22.95    965.0     4.5   \n",
       "1   PrescriptSkin, Vitamin C Moisturizer, Enhanced...  14.35   1562.0     4.5   \n",
       "2      PrescriptSkin, Stem Cell Cream, 2.25 oz (64 g)  22.95   1167.0     4.5   \n",
       "3   Sympli Beautiful, All Day Hydration Cream, 2 o...  19.13   1356.0     4.4   \n",
       "4   Eucerin, Q10 Anti-Wrinkle Face Cream, 1.7 oz (...  16.45  20523.0     4.5   \n",
       "..                                                ...    ...      ...     ...   \n",
       "95  Source Naturals, Skin Eternal Cream, 2 oz (56....  22.69   4024.0     4.4   \n",
       "96  Dear, Klairs, Midnight Blue Calming Cream, 2 o...  47.82   1338.0     4.7   \n",
       "97  Leven Rose, 100% Pure & Organic, Carrot Seed O...  22.27    611.0     4.4   \n",
       "98  Andalou Naturals, Perfecting Cream, Goji Pepti...  43.02   1509.0     4.6   \n",
       "99  Mizon, Snail Wrinkle Care Sleeping Pack, 2.70 ...  20.70    211.0     4.7   \n",
       "\n",
       "               brand  \n",
       "0      PrescriptSkin  \n",
       "1      PrescriptSkin  \n",
       "2      PrescriptSkin  \n",
       "3   Sympli Beautiful  \n",
       "4            Eucerin  \n",
       "..               ...  \n",
       "95   Source Naturals  \n",
       "96              Dear  \n",
       "97        Leven Rose  \n",
       "98  Andalou Naturals  \n",
       "99             Mizon  \n",
       "\n",
       "[100 rows x 5 columns]"
      ]
     },
     "execution_count": 48,
     "metadata": {},
     "output_type": "execute_result"
    }
   ],
   "source": [
    "df1.head(100)"
   ]
  },
  {
   "cell_type": "code",
   "execution_count": 49,
   "id": "28ee3358",
   "metadata": {},
   "outputs": [
    {
     "data": {
      "text/plain": [
       "Andalou Naturals    34\n",
       "Derma E             23\n",
       "Acure               21\n",
       "Olay                19\n",
       "InstaNatural        18\n",
       "                    ..\n",
       "Burt's Bees          1\n",
       "Dr. Mercola          1\n",
       "Wow Skin Science     1\n",
       "Aromatica            1\n",
       "Biorace              1\n",
       "Name: brand, Length: 202, dtype: int64"
      ]
     },
     "execution_count": 49,
     "metadata": {},
     "output_type": "execute_result"
    }
   ],
   "source": [
    "#new_Airbnb\n",
    "df1['brand'].value_counts()"
   ]
  },
  {
   "cell_type": "code",
   "execution_count": 50,
   "id": "697bba6e",
   "metadata": {},
   "outputs": [],
   "source": [
    "from sklearn import preprocessing\n",
    "le = preprocessing.LabelEncoder()\n",
    "df1['brand_label'] = le.fit_transform(df1['brand'])"
   ]
  },
  {
   "cell_type": "code",
   "execution_count": 51,
   "id": "a9cb0ad6",
   "metadata": {},
   "outputs": [
    {
     "data": {
      "text/html": [
       "<div>\n",
       "<style scoped>\n",
       "    .dataframe tbody tr th:only-of-type {\n",
       "        vertical-align: middle;\n",
       "    }\n",
       "\n",
       "    .dataframe tbody tr th {\n",
       "        vertical-align: top;\n",
       "    }\n",
       "\n",
       "    .dataframe thead th {\n",
       "        text-align: right;\n",
       "    }\n",
       "</style>\n",
       "<table border=\"1\" class=\"dataframe\">\n",
       "  <thead>\n",
       "    <tr style=\"text-align: right;\">\n",
       "      <th></th>\n",
       "      <th>Name</th>\n",
       "      <th>Price</th>\n",
       "      <th>Review</th>\n",
       "      <th>Rating</th>\n",
       "      <th>brand</th>\n",
       "      <th>brand_label</th>\n",
       "    </tr>\n",
       "  </thead>\n",
       "  <tbody>\n",
       "    <tr>\n",
       "      <th>0</th>\n",
       "      <td>PrescriptSkin, Retinol Night Cream, 1.55 oz (4...</td>\n",
       "      <td>22.95</td>\n",
       "      <td>965.0</td>\n",
       "      <td>4.5</td>\n",
       "      <td>PrescriptSkin</td>\n",
       "      <td>131</td>\n",
       "    </tr>\n",
       "    <tr>\n",
       "      <th>1</th>\n",
       "      <td>PrescriptSkin, Vitamin C Moisturizer, Enhanced...</td>\n",
       "      <td>14.35</td>\n",
       "      <td>1562.0</td>\n",
       "      <td>4.5</td>\n",
       "      <td>PrescriptSkin</td>\n",
       "      <td>131</td>\n",
       "    </tr>\n",
       "    <tr>\n",
       "      <th>2</th>\n",
       "      <td>PrescriptSkin, Stem Cell Cream, 2.25 oz (64 g)</td>\n",
       "      <td>22.95</td>\n",
       "      <td>1167.0</td>\n",
       "      <td>4.5</td>\n",
       "      <td>PrescriptSkin</td>\n",
       "      <td>131</td>\n",
       "    </tr>\n",
       "    <tr>\n",
       "      <th>3</th>\n",
       "      <td>Sympli Beautiful, All Day Hydration Cream, 2 o...</td>\n",
       "      <td>19.13</td>\n",
       "      <td>1356.0</td>\n",
       "      <td>4.4</td>\n",
       "      <td>Sympli Beautiful</td>\n",
       "      <td>174</td>\n",
       "    </tr>\n",
       "    <tr>\n",
       "      <th>4</th>\n",
       "      <td>Eucerin, Q10 Anti-Wrinkle Face Cream, 1.7 oz (...</td>\n",
       "      <td>16.45</td>\n",
       "      <td>20523.0</td>\n",
       "      <td>4.5</td>\n",
       "      <td>Eucerin</td>\n",
       "      <td>62</td>\n",
       "    </tr>\n",
       "  </tbody>\n",
       "</table>\n",
       "</div>"
      ],
      "text/plain": [
       "                                                Name  Price   Review  Rating  \\\n",
       "0  PrescriptSkin, Retinol Night Cream, 1.55 oz (4...  22.95    965.0     4.5   \n",
       "1  PrescriptSkin, Vitamin C Moisturizer, Enhanced...  14.35   1562.0     4.5   \n",
       "2     PrescriptSkin, Stem Cell Cream, 2.25 oz (64 g)  22.95   1167.0     4.5   \n",
       "3  Sympli Beautiful, All Day Hydration Cream, 2 o...  19.13   1356.0     4.4   \n",
       "4  Eucerin, Q10 Anti-Wrinkle Face Cream, 1.7 oz (...  16.45  20523.0     4.5   \n",
       "\n",
       "              brand  brand_label  \n",
       "0     PrescriptSkin          131  \n",
       "1     PrescriptSkin          131  \n",
       "2     PrescriptSkin          131  \n",
       "3  Sympli Beautiful          174  \n",
       "4           Eucerin           62  "
      ]
     },
     "execution_count": 51,
     "metadata": {},
     "output_type": "execute_result"
    }
   ],
   "source": [
    "df1.head()"
   ]
  },
  {
   "cell_type": "code",
   "execution_count": 52,
   "id": "439a985a",
   "metadata": {},
   "outputs": [
    {
     "data": {
      "text/html": [
       "<div>\n",
       "<style scoped>\n",
       "    .dataframe tbody tr th:only-of-type {\n",
       "        vertical-align: middle;\n",
       "    }\n",
       "\n",
       "    .dataframe tbody tr th {\n",
       "        vertical-align: top;\n",
       "    }\n",
       "\n",
       "    .dataframe thead th {\n",
       "        text-align: right;\n",
       "    }\n",
       "</style>\n",
       "<table border=\"1\" class=\"dataframe\">\n",
       "  <thead>\n",
       "    <tr style=\"text-align: right;\">\n",
       "      <th></th>\n",
       "      <th>Price</th>\n",
       "      <th>Review</th>\n",
       "      <th>Rating</th>\n",
       "      <th>brand_label</th>\n",
       "    </tr>\n",
       "  </thead>\n",
       "  <tbody>\n",
       "    <tr>\n",
       "      <th>0</th>\n",
       "      <td>22.95</td>\n",
       "      <td>965.0</td>\n",
       "      <td>4.5</td>\n",
       "      <td>131</td>\n",
       "    </tr>\n",
       "    <tr>\n",
       "      <th>1</th>\n",
       "      <td>14.35</td>\n",
       "      <td>1562.0</td>\n",
       "      <td>4.5</td>\n",
       "      <td>131</td>\n",
       "    </tr>\n",
       "    <tr>\n",
       "      <th>2</th>\n",
       "      <td>22.95</td>\n",
       "      <td>1167.0</td>\n",
       "      <td>4.5</td>\n",
       "      <td>131</td>\n",
       "    </tr>\n",
       "    <tr>\n",
       "      <th>3</th>\n",
       "      <td>19.13</td>\n",
       "      <td>1356.0</td>\n",
       "      <td>4.4</td>\n",
       "      <td>174</td>\n",
       "    </tr>\n",
       "    <tr>\n",
       "      <th>4</th>\n",
       "      <td>16.45</td>\n",
       "      <td>20523.0</td>\n",
       "      <td>4.5</td>\n",
       "      <td>62</td>\n",
       "    </tr>\n",
       "    <tr>\n",
       "      <th>...</th>\n",
       "      <td>...</td>\n",
       "      <td>...</td>\n",
       "      <td>...</td>\n",
       "      <td>...</td>\n",
       "    </tr>\n",
       "    <tr>\n",
       "      <th>938</th>\n",
       "      <td>25.49</td>\n",
       "      <td>4.0</td>\n",
       "      <td>4.2</td>\n",
       "      <td>186</td>\n",
       "    </tr>\n",
       "    <tr>\n",
       "      <th>943</th>\n",
       "      <td>20.64</td>\n",
       "      <td>17.0</td>\n",
       "      <td>4.3</td>\n",
       "      <td>5</td>\n",
       "    </tr>\n",
       "    <tr>\n",
       "      <th>944</th>\n",
       "      <td>15.92</td>\n",
       "      <td>11.0</td>\n",
       "      <td>4.1</td>\n",
       "      <td>39</td>\n",
       "    </tr>\n",
       "    <tr>\n",
       "      <th>945</th>\n",
       "      <td>20.70</td>\n",
       "      <td>6.0</td>\n",
       "      <td>4.5</td>\n",
       "      <td>39</td>\n",
       "    </tr>\n",
       "    <tr>\n",
       "      <th>946</th>\n",
       "      <td>20.70</td>\n",
       "      <td>9.0</td>\n",
       "      <td>4.6</td>\n",
       "      <td>39</td>\n",
       "    </tr>\n",
       "  </tbody>\n",
       "</table>\n",
       "<p>896 rows × 4 columns</p>\n",
       "</div>"
      ],
      "text/plain": [
       "     Price   Review  Rating  brand_label\n",
       "0    22.95    965.0     4.5          131\n",
       "1    14.35   1562.0     4.5          131\n",
       "2    22.95   1167.0     4.5          131\n",
       "3    19.13   1356.0     4.4          174\n",
       "4    16.45  20523.0     4.5           62\n",
       "..     ...      ...     ...          ...\n",
       "938  25.49      4.0     4.2          186\n",
       "943  20.64     17.0     4.3            5\n",
       "944  15.92     11.0     4.1           39\n",
       "945  20.70      6.0     4.5           39\n",
       "946  20.70      9.0     4.6           39\n",
       "\n",
       "[896 rows x 4 columns]"
      ]
     },
     "execution_count": 52,
     "metadata": {},
     "output_type": "execute_result"
    }
   ],
   "source": [
    "New=df1[['Price','Review','Rating','brand_label']]\n",
    "New\n",
    "\n"
   ]
  },
  {
   "cell_type": "code",
   "execution_count": 53,
   "id": "bb9e88db",
   "metadata": {},
   "outputs": [
    {
     "data": {
      "text/plain": [
       "<AxesSubplot:>"
      ]
     },
     "execution_count": 53,
     "metadata": {},
     "output_type": "execute_result"
    },
    {
     "data": {
      "image/png": "[encoded data removed]",
      "text/plain": [
       "<Figure size 576x360 with 1 Axes>"
      ]
     },
     "metadata": {
      "needs_background": "light"
     },
     "output_type": "display_data"
    }
   ],
   "source": [
    "plt.subplots(figsize=(8,5))\n",
    "sns.heatmap(New.corr(),cbar=False, annot=True,cmap=\"YlGnBu\")"
   ]
  },
  {
   "cell_type": "code",
   "execution_count": 54,
   "id": "11a27ec1",
   "metadata": {},
   "outputs": [
    {
     "data": {
      "text/html": [
       "<div>\n",
       "<style scoped>\n",
       "    .dataframe tbody tr th:only-of-type {\n",
       "        vertical-align: middle;\n",
       "    }\n",
       "\n",
       "    .dataframe tbody tr th {\n",
       "        vertical-align: top;\n",
       "    }\n",
       "\n",
       "    .dataframe thead th {\n",
       "        text-align: right;\n",
       "    }\n",
       "</style>\n",
       "<table border=\"1\" class=\"dataframe\">\n",
       "  <thead>\n",
       "    <tr style=\"text-align: right;\">\n",
       "      <th></th>\n",
       "      <th>Price</th>\n",
       "      <th>Review</th>\n",
       "      <th>Rating</th>\n",
       "      <th>brand_label</th>\n",
       "    </tr>\n",
       "  </thead>\n",
       "  <tbody>\n",
       "    <tr>\n",
       "      <th>0</th>\n",
       "      <td>22.95</td>\n",
       "      <td>965.0</td>\n",
       "      <td>4.5</td>\n",
       "      <td>131</td>\n",
       "    </tr>\n",
       "    <tr>\n",
       "      <th>1</th>\n",
       "      <td>14.35</td>\n",
       "      <td>1562.0</td>\n",
       "      <td>4.5</td>\n",
       "      <td>131</td>\n",
       "    </tr>\n",
       "    <tr>\n",
       "      <th>2</th>\n",
       "      <td>22.95</td>\n",
       "      <td>1167.0</td>\n",
       "      <td>4.5</td>\n",
       "      <td>131</td>\n",
       "    </tr>\n",
       "    <tr>\n",
       "      <th>3</th>\n",
       "      <td>19.13</td>\n",
       "      <td>1356.0</td>\n",
       "      <td>4.4</td>\n",
       "      <td>174</td>\n",
       "    </tr>\n",
       "    <tr>\n",
       "      <th>4</th>\n",
       "      <td>16.45</td>\n",
       "      <td>20523.0</td>\n",
       "      <td>4.5</td>\n",
       "      <td>62</td>\n",
       "    </tr>\n",
       "  </tbody>\n",
       "</table>\n",
       "</div>"
      ],
      "text/plain": [
       "   Price   Review  Rating  brand_label\n",
       "0  22.95    965.0     4.5          131\n",
       "1  14.35   1562.0     4.5          131\n",
       "2  22.95   1167.0     4.5          131\n",
       "3  19.13   1356.0     4.4          174\n",
       "4  16.45  20523.0     4.5           62"
      ]
     },
     "execution_count": 54,
     "metadata": {},
     "output_type": "execute_result"
    }
   ],
   "source": [
    "New.head()"
   ]
  },
  {
   "cell_type": "markdown",
   "id": "a9682e67",
   "metadata": {},
   "source": [
    "# Splitting the data\n"
   ]
  },
  {
   "cell_type": "code",
   "execution_count": 55,
   "id": "0b5a2561",
   "metadata": {},
   "outputs": [],
   "source": [
    "from sklearn.linear_model import LinearRegression\n",
    "from sklearn.metrics import r2_score, mean_squared_error\n",
    "from sklearn.preprocessing import PolynomialFeatures\n",
    "from sklearn.linear_model import Lasso, LassoCV, Ridge, RidgeCV\n",
    "from sklearn.model_selection import cross_val_score\n",
    "import seaborn as sb\n",
    "from sklearn.model_selection import (cross_val_score, train_test_split, \n",
    "                                     KFold, GridSearchCV)\n"
   ]
  },
  {
   "cell_type": "code",
   "execution_count": 56,
   "id": "702283bd",
   "metadata": {},
   "outputs": [],
   "source": [
    "X = New.drop(['Price','Review'], axis = 1)#Review the perfect for linear\n",
    "y =New['Price']\n",
    "X, X_test, y, y_test = train_test_split(X, y, test_size=0.2, random_state=50)\n",
    "X_train, X_val, y_train, y_val = train_test_split(X, y, test_size=0.2, random_state=50)"
   ]
  },
  {
   "cell_type": "markdown",
   "id": "3c0517c6",
   "metadata": {},
   "source": [
    "# Linear Regression "
   ]
  },
  {
   "cell_type": "code",
   "execution_count": 57,
   "id": "7a5d61d6",
   "metadata": {},
   "outputs": [
    {
     "name": "stdout",
     "output_type": "stream",
     "text": [
      "0.05454731955942049\n"
     ]
    }
   ],
   "source": [
    "lr = LinearRegression()\n",
    "lr.fit(X_train,y_train)\n",
    "y_pred=lr.predict(X_test)\n",
    "#print(y_pred)\n",
    "print(r2_score(y_test, y_pred))"
   ]
  },
  {
   "cell_type": "code",
   "execution_count": 58,
   "id": "9115eaf7",
   "metadata": {},
   "outputs": [
    {
     "data": {
      "text/plain": [
       "0.049960955693037934"
      ]
     },
     "execution_count": 58,
     "metadata": {},
     "output_type": "execute_result"
    }
   ],
   "source": [
    "val_score = lr.score(X_val, y_val)  \n",
    "val_score"
   ]
  },
  {
   "cell_type": "code",
   "execution_count": 59,
   "id": "b6489fa5",
   "metadata": {},
   "outputs": [
    {
     "data": {
      "text/plain": [
       "0.02583749637236532"
      ]
     },
     "execution_count": 59,
     "metadata": {},
     "output_type": "execute_result"
    }
   ],
   "source": [
    "train_score = lr.score(X_train, y_train)\n",
    "train_score"
   ]
  },
  {
   "cell_type": "code",
   "execution_count": 60,
   "id": "b903079c",
   "metadata": {},
   "outputs": [
    {
     "data": {
      "text/plain": [
       "0.05454731955942049"
      ]
     },
     "execution_count": 60,
     "metadata": {},
     "output_type": "execute_result"
    }
   ],
   "source": [
    "test_score = lr.score(X_test, y_test)\n",
    "test_score"
   ]
  },
  {
   "cell_type": "code",
   "execution_count": 62,
   "id": "d80f6dc0",
   "metadata": {},
   "outputs": [
    {
     "data": {
      "image/png": "[encoded data removed]",
      "text/plain": [
       "<Figure size 432x288 with 1 Axes>"
      ]
     },
     "metadata": {
      "needs_background": "light"
     },
     "output_type": "display_data"
    }
   ],
   "source": [
    "y_train_pred = lr.predict(X_train)\n",
    "\n",
    "plt.scatter(y_train, y_train_pred, alpha=0.2)#cross valid do train only \n",
    "plt.title(\"Actual vs. predicted\", size=22)\n",
    "plt.xlabel('Actual Training Set', size=12)\n",
    "plt.ylabel('predicted Training Set', size=12)\n",
    "plt.plot([0, 400], [0, 400])\n",
    "plt.show()"
   ]
  },
  {
   "cell_type": "markdown",
   "id": "097740d5",
   "metadata": {},
   "source": [
    "# Polynomial Regression"
   ]
  },
  {
   "cell_type": "code",
   "execution_count": 66,
   "id": "fcebf2de",
   "metadata": {},
   "outputs": [
    {
     "data": {
      "text/plain": [
       "LinearRegression()"
      ]
     },
     "execution_count": 66,
     "metadata": {},
     "output_type": "execute_result"
    }
   ],
   "source": [
    "poly = PolynomialFeatures(degree=2)\n",
    "\n",
    "X_train_poly = poly.fit_transform(X_train)\n",
    "X_test_poly= poly.transform(X_test)\n",
    "X_val_poly= poly.transform(X_val)\n",
    "\n",
    "Plr = LinearRegression()\n",
    "Plr.fit(X_train_poly, y_train)"
   ]
  },
  {
   "cell_type": "code",
   "execution_count": 67,
   "id": "8014bd4b",
   "metadata": {},
   "outputs": [
    {
     "name": "stdout",
     "output_type": "stream",
     "text": [
      "0.03833418038490355\n"
     ]
    }
   ],
   "source": [
    "print(Plr.score(X_train_poly, y_train))"
   ]
  },
  {
   "cell_type": "code",
   "execution_count": 68,
   "id": "ef7c0db5",
   "metadata": {},
   "outputs": [
    {
     "name": "stdout",
     "output_type": "stream",
     "text": [
      "0.09042360360911883\n"
     ]
    }
   ],
   "source": [
    "print(Plr.score(X_test_poly, y_test))"
   ]
  },
  {
   "cell_type": "code",
   "execution_count": 69,
   "id": "2273c6e1",
   "metadata": {},
   "outputs": [
    {
     "name": "stdout",
     "output_type": "stream",
     "text": [
      "0.07475321690387748\n"
     ]
    }
   ],
   "source": [
    "print(Plr.score(X_val_poly, y_val))"
   ]
  },
  {
   "cell_type": "code",
   "execution_count": null,
   "id": "694ec19c",
   "metadata": {},
   "outputs": [],
   "source": []
  },
  {
   "cell_type": "code",
   "execution_count": 114,
   "id": "3719c9f8",
   "metadata": {},
   "outputs": [],
   "source": [
    "#set up the 3 models we're choosing from:\n",
    "\n",
    "lm = LinearRegression()\n",
    "\n",
    "#Feature scaling for train, val, and test so that we can run our ridge model on each\n",
    "scaler = StandardScaler()\n",
    "\n",
    "X_train_scaled = scaler.fit_transform(X_train.values)\n",
    "X_val_scaled = scaler.transform(X_val.values)\n",
    "X_test_scaled = scaler.transform(X_test.values)\n",
    "\n",
    "lm_reg = Ridge(alpha=1)\n",
    "\n",
    "#Feature transforms for train, val, and test so that we can run our poly model on each\n",
    "poly = PolynomialFeatures(degree=2) \n",
    "\n",
    "X_train_poly = poly.fit_transform(X_train.values)\n",
    "X_val_poly = poly.transform(X_val.values)\n",
    "X_test_poly = poly.transform(X_test.values)\n",
    "\n",
    "lm_poly = LinearRegression()"
   ]
  },
  {
   "cell_type": "code",
   "execution_count": 115,
   "id": "cad7acb1",
   "metadata": {},
   "outputs": [
    {
     "name": "stdout",
     "output_type": "stream",
     "text": [
      "Linear Regression val R^2: 0.058\n",
      "Ridge Regression val R^2: 0.058\n",
      "Degree 2 polynomial regression val R^2: -0.115\n"
     ]
    }
   ],
   "source": [
    "#validate\n",
    "\n",
    "lm.fit(X_train, y_train)\n",
    "print(f'Linear Regression val R^2: {lm.score(X_val, y_val):.3f}')\n",
    "\n",
    "lm_reg.fit(X_train_scaled, y_train)\n",
    "print(f'Ridge Regression val R^2: {lm_reg.score(X_val_scaled, y_val):.3f}')\n",
    "\n",
    "lm_poly.fit(X_train_poly, y_train)\n",
    "print(f'Degree 2 polynomial regression val R^2: {lm_poly.score(X_val_poly, y_val):.3f}')"
   ]
  },
  {
   "cell_type": "code",
   "execution_count": 116,
   "id": "8bc6e94f",
   "metadata": {},
   "outputs": [
    {
     "name": "stdout",
     "output_type": "stream",
     "text": [
      "Linear Regression test R^2: 0.078\n"
     ]
    }
   ],
   "source": [
    "lm.fit(X,y)\n",
    "print(f'Linear Regression test R^2: {lm.score(X_test, y_test):.3f}')"
   ]
  },
  {
   "cell_type": "code",
   "execution_count": 117,
   "id": "4f438811",
   "metadata": {},
   "outputs": [
    {
     "data": {
      "text/plain": [
       "<seaborn.axisgrid.JointGrid at 0x129ae8e20>"
      ]
     },
     "execution_count": 117,
     "metadata": {},
     "output_type": "execute_result"
    },
    {
     "data": {
      "image/png": "[encoded data removed]",
      "text/plain": [
       "<Figure size 432x432 with 3 Axes>"
      ]
     },
     "metadata": {
      "needs_background": "light"
     },
     "output_type": "display_data"
    }
   ],
   "source": [
    "preds = lm_poly.predict(X_train_poly) # generate predictions (on training data) using fit model\n",
    "\n",
    "sns.jointplot(x=preds,y=y_train, kind='reg')"
   ]
  },
  {
   "cell_type": "code",
   "execution_count": null,
   "id": "716c921a",
   "metadata": {},
   "outputs": [],
   "source": []
  },
  {
   "cell_type": "markdown",
   "id": "4ff0b9bb",
   "metadata": {},
   "source": [
    "# Polynomial Regression"
   ]
  },
  {
   "cell_type": "code",
   "execution_count": 71,
   "id": "5764669a",
   "metadata": {},
   "outputs": [
    {
     "data": {
      "text/plain": [
       "LinearRegression()"
      ]
     },
     "execution_count": 71,
     "metadata": {},
     "output_type": "execute_result"
    }
   ],
   "source": [
    "poly = PolynomialFeatures(degree=2)\n",
    "\n",
    "X_train_poly = poly.fit_transform(X_train)\n",
    "X_test_poly= poly.transform(X_test)\n",
    "X_val_poly= poly.transform(X_val)\n",
    "\n",
    "Plr = LinearRegression()\n",
    "Plr.fit(X_train_poly, y_train)"
   ]
  },
  {
   "cell_type": "code",
   "execution_count": 72,
   "id": "8ab14ef0",
   "metadata": {},
   "outputs": [
    {
     "name": "stdout",
     "output_type": "stream",
     "text": [
      "0.03833418038490355\n"
     ]
    }
   ],
   "source": [
    "print(Plr.score(X_train_poly, y_train))"
   ]
  },
  {
   "cell_type": "code",
   "execution_count": 73,
   "id": "f840a1fe",
   "metadata": {},
   "outputs": [
    {
     "name": "stdout",
     "output_type": "stream",
     "text": [
      "0.09042360360911883\n"
     ]
    }
   ],
   "source": [
    "print(Plr.score(X_test_poly, y_test))"
   ]
  },
  {
   "cell_type": "code",
   "execution_count": 74,
   "id": "6c7e92ae",
   "metadata": {},
   "outputs": [
    {
     "name": "stdout",
     "output_type": "stream",
     "text": [
      "0.07475321690387748\n"
     ]
    }
   ],
   "source": [
    "print(Plr.score(X_val_poly, y_val))"
   ]
  },
  {
   "cell_type": "code",
   "execution_count": null,
   "id": "08fafe3b",
   "metadata": {},
   "outputs": [],
   "source": []
  },
  {
   "cell_type": "code",
   "execution_count": 122,
   "id": "35c641d8",
   "metadata": {},
   "outputs": [
    {
     "name": "stdout",
     "output_type": "stream",
     "text": [
      "Linear Regression val R^2: -2.759\n"
     ]
    }
   ],
   "source": [
    "print(f'Linear Regression val R^2: {lm.score(X_val_scaled, y_val):.3f}')"
   ]
  },
  {
   "cell_type": "code",
   "execution_count": 300,
   "id": "31bb50be",
   "metadata": {},
   "outputs": [
    {
     "data": {
      "text/plain": [
       "24.97241335705189"
      ]
     },
     "execution_count": 300,
     "metadata": {},
     "output_type": "execute_result"
    }
   ],
   "source": [
    "def MAE(actuals, preds): #mean absolute error\n",
    "    return np.mean(np.abs(actuals-preds))\n",
    "\n",
    "MAE(y_train,preds)"
   ]
  },
  {
   "cell_type": "code",
   "execution_count": 301,
   "id": "e0b9db20",
   "metadata": {},
   "outputs": [
    {
     "data": {
      "text/plain": [
       "25.04154561188913"
      ]
     },
     "execution_count": 301,
     "metadata": {},
     "output_type": "execute_result"
    }
   ],
   "source": [
    "def RMSE(actuals, preds): #root mean squared error\n",
    "    return np.sqrt(np.mean((actuals - preds)**2))\n",
    "\n",
    "RMSE(y_train,preds)"
   ]
  },
  {
   "cell_type": "code",
   "execution_count": 303,
   "id": "f27908d3",
   "metadata": {},
   "outputs": [
    {
     "data": {
      "text/plain": [
       "143.83911242466553"
      ]
     },
     "execution_count": 303,
     "metadata": {},
     "output_type": "execute_result"
    }
   ],
   "source": [
    "def SSE(actuals, preds): #sum squared error\n",
    "    return np.sum((actuals - preds)**2)\n",
    "\n",
    "SSE(y_train,preds)\n",
    "\n",
    "def SST(y): #Total sum squared\n",
    "    return np.sum((y - np.mean(y))**2)\n",
    "\n",
    "SST(y_train)"
   ]
  },
  {
   "cell_type": "code",
   "execution_count": 304,
   "id": "6be76a7a",
   "metadata": {},
   "outputs": [
    {
     "data": {
      "text/plain": [
       "-2492.6832948100223"
      ]
     },
     "execution_count": 304,
     "metadata": {},
     "output_type": "execute_result"
    }
   ],
   "source": [
    "def R2(actuals, preds):\n",
    "    return 1 - SSE(actuals, preds) / SST(actuals)\n",
    "\n",
    "R2(y_train,preds)"
   ]
  },
  {
   "cell_type": "code",
   "execution_count": 305,
   "id": "ffe42939",
   "metadata": {},
   "outputs": [
    {
     "name": "stdout",
     "output_type": "stream",
     "text": [
      "The R^2:  0.004021648421245305\n",
      "Testing R^2:  0.03221127404472146\n",
      "Mean Squared Error: 0.29119490230226475\n"
     ]
    }
   ],
   "source": [
    "from sklearn.model_selection import train_test_split, cross_val_score, KFold, GridSearchCV\n",
    "# cross Vali\n",
    "lr=LinearRegression()\n",
    "lr.fit(X_train,y_train)\n",
    "val = KFold(n_splits = 5)\n",
    "cv_res = cross_val_score(lr,X_train,y_train,cv = val ,scoring = 'r2')\n",
    "print('The R^2: ',cv_res.mean())\n",
    "y_pred=lr.predict(X_val)\n",
    "score = r2_score(y_val,y_pred)\n",
    "mse = mean_squared_error(y_pred,y_val)\n",
    "print('Testing R^2: ',score)\n",
    "print('Mean Squared Error:' ,mse)"
   ]
  },
  {
   "cell_type": "code",
   "execution_count": null,
   "id": "86c4ad6c",
   "metadata": {},
   "outputs": [],
   "source": []
  }
 ],
 "metadata": {
  "kernelspec": {
   "display_name": "Python 3",
   "language": "python",
   "name": "python3"
  },
  "language_info": {
   "codemirror_mode": {
    "name": "ipython",
    "version": 3
   },
   "file_extension": ".py",
   "mimetype": "text/x-python",
   "name": "python",
   "nbconvert_exporter": "python",
   "pygments_lexer": "ipython3",
   "version": "3.8.8"
  }
 },
 "nbformat": 4,
 "nbformat_minor": 5
}
